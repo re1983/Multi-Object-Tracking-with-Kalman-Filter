{
 "cells": [
  {
   "cell_type": "code",
   "execution_count": 2,
   "metadata": {},
   "outputs": [
    {
     "name": "stdout",
     "output_type": "stream",
     "text": [
      "[[[511 108]\n",
      "  [507 108]\n",
      "  [506 108]\n",
      "  ...\n",
      "  [ 13 322]\n",
      "  [ 13 324]\n",
      "  [ 14 325]]\n",
      "\n",
      " [[116 293]\n",
      "  [119 294]\n",
      "  [121 295]\n",
      "  ...\n",
      "  [423 278]\n",
      "  [425 282]\n",
      "  [427 285]]\n",
      "\n",
      " [[460 286]\n",
      "  [460 288]\n",
      "  [461 291]\n",
      "  ...\n",
      "  [428  17]\n",
      "  [424  17]\n",
      "  [421  16]]\n",
      "\n",
      " ...\n",
      "\n",
      " [[157  33]\n",
      "  [158  35]\n",
      "  [160  37]\n",
      "  ...\n",
      "  [152 459]\n",
      "  [149 460]\n",
      "  [146 460]]\n",
      "\n",
      " [[  0   2]\n",
      "  [  1   3]\n",
      "  [  1   5]\n",
      "  ...\n",
      "  [ 63 433]\n",
      "  [ 60 432]\n",
      "  [ 57 431]]\n",
      "\n",
      " [[406  46]\n",
      "  [407  48]\n",
      "  [409  51]\n",
      "  ...\n",
      "  [491 147]\n",
      "  [491 151]\n",
      "  [491 155]]]\n"
     ]
    }
   ],
   "source": [
    "import numpy as np\n",
    "\n",
    "# Load the .npy file\n",
    "data = np.load('Detections.npy')\n",
    "\n",
    "# Print the loaded data\n",
    "print(data)"
   ]
  }
 ],
 "metadata": {
  "kernelspec": {
   "display_name": "Python 3",
   "language": "python",
   "name": "python3"
  },
  "language_info": {
   "codemirror_mode": {
    "name": "ipython",
    "version": 3
   },
   "file_extension": ".py",
   "mimetype": "text/x-python",
   "name": "python",
   "nbconvert_exporter": "python",
   "pygments_lexer": "ipython3",
   "version": "3.9.12"
  },
  "orig_nbformat": 4
 },
 "nbformat": 4,
 "nbformat_minor": 2
}
